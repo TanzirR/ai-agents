{
 "cells": [
  {
   "cell_type": "markdown",
   "metadata": {},
   "source": [
    "# Basic Agentic AI"
   ]
  },
  {
   "cell_type": "code",
   "execution_count": 36,
   "metadata": {},
   "outputs": [],
   "source": [
    "# First let's do an import. If you get an Import Error, double check that your Kernel is correct..\n",
    "from dotenv import load_dotenv"
   ]
  },
  {
   "cell_type": "code",
   "execution_count": 37,
   "metadata": {},
   "outputs": [
    {
     "data": {
      "text/plain": [
       "True"
      ]
     },
     "execution_count": 37,
     "metadata": {},
     "output_type": "execute_result"
    }
   ],
   "source": [
    "# Next it's time to load the API keys into environment variables\n",
    "# If this returns false, see the next cell!\n",
    "\n",
    "load_dotenv(override=True)"
   ]
  },
  {
   "cell_type": "code",
   "execution_count": 38,
   "metadata": {},
   "outputs": [
    {
     "name": "stdout",
     "output_type": "stream",
     "text": [
      "OpenAI API Key exists and begins sk-proj-\n"
     ]
    }
   ],
   "source": [
    "# Check the key - if you're not using OpenAI, check whichever key you're using! Ollama doesn't need a key.\n",
    "\n",
    "import os\n",
    "openai_api_key = os.getenv('OPENAI_API_KEY')\n",
    "\n",
    "if openai_api_key:\n",
    "    print(f\"OpenAI API Key exists and begins {openai_api_key[:8]}\")\n",
    "else:\n",
    "    print(\"OpenAI API Key not set - please head to the troubleshooting guide in the setup folder\")\n",
    "    "
   ]
  },
  {
   "cell_type": "code",
   "execution_count": 39,
   "metadata": {},
   "outputs": [],
   "source": [
    "# And now - the all important import statement\n",
    "# If you get an import error - head over to troubleshooting in the Setup folder\n",
    "# Even for other LLM providers like Gemini, you still use this OpenAI import - see Guide 9 for why\n",
    "\n",
    "from openai import OpenAI"
   ]
  },
  {
   "cell_type": "code",
   "execution_count": 40,
   "metadata": {},
   "outputs": [],
   "source": [
    "# And now we'll create an instance of the OpenAI class\n",
    "# If you're not sure what it means to create an instance of a class - head over to the guides folder (guide 6)!\n",
    "# If you get a NameError - head over to the guides folder (guide 6)to learn about NameErrors - always instantly fixable\n",
    "# If you're not using OpenAI, you just need to slightly modify this - precise instructions are in the AI APIs guide (guide 9)\n",
    "\n",
    "openai = OpenAI()"
   ]
  },
  {
   "cell_type": "code",
   "execution_count": 41,
   "metadata": {},
   "outputs": [],
   "source": [
    "# Create a list of messages in the familiar OpenAI format\n",
    "\n",
    "messages = [{\"role\": \"user\", \"content\": \"What is 2+2?\"}]"
   ]
  },
  {
   "cell_type": "code",
   "execution_count": 42,
   "metadata": {},
   "outputs": [
    {
     "name": "stdout",
     "output_type": "stream",
     "text": [
      "2 + 2 equals 4.\n"
     ]
    }
   ],
   "source": [
    "# And now call it! Any problems, head to the troubleshooting guide\n",
    "# This uses GPT 4.1 nano, the incredibly cheap model\n",
    "# The APIs guide (guide 9) has exact instructions for using even cheaper or free alternatives to OpenAI\n",
    "# If you get a NameError, head to the guides folder (guide 6) to learn about NameErrors - always instantly fixable\n",
    "\n",
    "response = openai.chat.completions.create(\n",
    "    model=\"gpt-4.1-nano\",\n",
    "    messages=messages\n",
    ")\n",
    "\n",
    "print(response.choices[0].message.content)\n"
   ]
  },
  {
   "cell_type": "code",
   "execution_count": 43,
   "metadata": {},
   "outputs": [],
   "source": [
    "# And now - let's ask for a question:\n",
    "\n",
    "question = \"Please propose a hard, challenging question to assess someone's IQ. Respond only with the question.\"\n",
    "messages = [{\"role\": \"user\", \"content\": question}]\n"
   ]
  },
  {
   "cell_type": "code",
   "execution_count": 44,
   "metadata": {},
   "outputs": [
    {
     "name": "stdout",
     "output_type": "stream",
     "text": [
      "If 5 machines take 5 minutes to make 5 widgets, how long would 100 machines take to make 100 widgets?\n"
     ]
    }
   ],
   "source": [
    "# ask it - this uses GPT 4.1 mini, still cheap but more powerful than nano\n",
    "\n",
    "response = openai.chat.completions.create(\n",
    "    model=\"gpt-4.1-mini\",\n",
    "    messages=messages\n",
    ")\n",
    "\n",
    "question = response.choices[0].message.content\n",
    "\n",
    "print(question)\n"
   ]
  },
  {
   "cell_type": "code",
   "execution_count": 45,
   "metadata": {},
   "outputs": [],
   "source": [
    "# form a new messages list\n",
    "messages = [{\"role\": \"user\", \"content\": question}]\n"
   ]
  },
  {
   "cell_type": "code",
   "execution_count": 33,
   "metadata": {},
   "outputs": [
    {
     "name": "stdout",
     "output_type": "stream",
     "text": [
      "Let's analyze the problem step-by-step:\n",
      "\n",
      "**Given:**\n",
      "- 5 machines take 5 minutes to make 5 widgets.\n",
      "\n",
      "**Step 1: Find the rate per machine**\n",
      "- Since 5 machines make 5 widgets in 5 minutes, let's find out how many widgets one machine makes in 5 minutes.\n",
      "- Total widgets per 5 machines in 5 minutes = 5 widgets.\n",
      "- So, 1 machine makes \\( \\frac{5}{5} = 1 \\) widget in 5 minutes.\n",
      "\n",
      "**Step 2: Find the rate per machine per minute**\n",
      "- 1 machine makes 1 widget in 5 minutes, so in 1 minute, 1 machine makes \\( \\frac{1}{5} \\) widget.\n",
      "\n",
      "**Step 3: Find time for 100 machines to make 100 widgets**\n",
      "- 100 machines working together in 1 minute make \\( 100 \\times \\frac{1}{5} = 20 \\) widgets.\n",
      "- To make 100 widgets, at 20 widgets per minute, it would take \\( \\frac{100}{20} = 5 \\) minutes.\n",
      "\n",
      "**Answer:**\n",
      "It would take **5 minutes** for 100 machines to make 100 widgets.\n"
     ]
    }
   ],
   "source": [
    "# Ask it again\n",
    "\n",
    "response = openai.chat.completions.create(\n",
    "    model=\"gpt-4.1-mini\",\n",
    "    messages=messages\n",
    ")\n",
    "\n",
    "answer = response.choices[0].message.content\n",
    "print(answer)"
   ]
  },
  {
   "cell_type": "code",
   "execution_count": 34,
   "metadata": {},
   "outputs": [
    {
     "data": {
      "text/markdown": [
       "Let's analyze the problem step-by-step:\n",
       "\n",
       "**Given:**\n",
       "- 5 machines take 5 minutes to make 5 widgets.\n",
       "\n",
       "**Step 1: Find the rate per machine**\n",
       "- Since 5 machines make 5 widgets in 5 minutes, let's find out how many widgets one machine makes in 5 minutes.\n",
       "- Total widgets per 5 machines in 5 minutes = 5 widgets.\n",
       "- So, 1 machine makes \\( \\frac{5}{5} = 1 \\) widget in 5 minutes.\n",
       "\n",
       "**Step 2: Find the rate per machine per minute**\n",
       "- 1 machine makes 1 widget in 5 minutes, so in 1 minute, 1 machine makes \\( \\frac{1}{5} \\) widget.\n",
       "\n",
       "**Step 3: Find time for 100 machines to make 100 widgets**\n",
       "- 100 machines working together in 1 minute make \\( 100 \\times \\frac{1}{5} = 20 \\) widgets.\n",
       "- To make 100 widgets, at 20 widgets per minute, it would take \\( \\frac{100}{20} = 5 \\) minutes.\n",
       "\n",
       "**Answer:**\n",
       "It would take **5 minutes** for 100 machines to make 100 widgets."
      ],
      "text/plain": [
       "<IPython.core.display.Markdown object>"
      ]
     },
     "metadata": {},
     "output_type": "display_data"
    }
   ],
   "source": [
    "from IPython.display import Markdown, display\n",
    "\n",
    "display(Markdown(answer))\n"
   ]
  },
  {
   "cell_type": "code",
   "execution_count": 35,
   "metadata": {},
   "outputs": [
    {
     "name": "stdout",
     "output_type": "stream",
     "text": [
      "1st Response (Business Idea): One promising business area for an Agentic AI opportunity is the **Financial Advisory and Wealth Management Sector**. \n",
      "\n",
      "**Rationale:**\n",
      "- **Complex Decision-Making:** Financial planning involves analyzing extensive data, forecasting market trends, and tailoring advice to individual client goals, which benefits from advanced AI agency.\n",
      "- **Personalization:** An agentic AI can offer highly personalized investment strategies, risk assessments, and financial recommendations.\n",
      "- **Continuous Learning and Adaptation:** The dynamic nature of markets requires AI systems that can learn from new data and adjust recommendations proactively.\n",
      "- **Regulatory Compliance:** An intelligent agent can help navigate compliance requirements and provide transparent reasoning for decisions.\n",
      "- **Customer Engagement:** An agentic AI can engage clients through natural language interactions, enhancing trust and satisfaction.\n",
      "\n",
      "**Potential Impact:**\n",
      "Implementing an Agentic AI in this space could revolutionize how financial advice is delivered, making it more accessible, adaptive, and personalized, ultimately fostering better financial outcomes for clients.\n",
      "2nd Response (Pain Point): One significant pain-point in the Financial Advisory and Wealth Management Sector that could be effectively addressed by an Agentic AI solution is **the time-consuming and complex process of personalized financial planning and real-time portfolio management.**\n",
      "\n",
      "**Details:**\n",
      "- Financial advisors often juggle multiple clients, each with unique goals, risk tolerances, and market conditions.\n",
      "- Developing tailored investment strategies requires meticulous data analysis, continuous monitoring, and frequent adjustments, which can be labor-intensive and prone to human oversight.\n",
      "- Clients demand timely updates and proactive advice, especially in volatile markets, but human advisors may not always have the capacity to respond instantly or keep pace with rapidly changing data.\n",
      "\n",
      "**How an Agentic AI Can Help:**\n",
      "- Actively analyze vast datasets, including market trends, client portfolios, and personal preferences.\n",
      "- Continuously adapt investment recommendations in real time based on new data and market movements.\n",
      "- Offer personalized, proactive insights to clients via natural language conversations, reducing the workload for human advisors.\n",
      "- Ensure compliance and transparency by articulating reasoning behind recommendations.\n",
      "\n",
      "**Outcome:**\n",
      "Addressing this pain-point with an Agentic AI can streamline personalized financial planning, improve responsiveness, reduce operational overhead, and enhance client trust and satisfaction.\n",
      "3rd Response (Solution): Proposed Agentic AI Solution for Enhanced Financial Planning and Portfolio Management\n",
      "\n",
      "Overview:\n",
      "Implement an advanced Agentic AI system—termed **FinSmart AI**—designed to collaborate seamlessly with financial advisors and clients, transforming personalized financial planning and real-time portfolio management into a more efficient, adaptive, and transparent process.\n",
      "\n",
      "Core Capabilities:\n",
      "\n",
      "1. **Dynamic Data Aggregation & Analysis**\n",
      "   - Continuously gather and synthesize data from multiple sources: market feeds, economic indicators, client information, news outlets, and alternative data.\n",
      "   - Leverage machine learning models to identify patterns, forecast trends, and assess risk levels tailored to each client.\n",
      "\n",
      "2. **Real-Time Portfolio Monitoring & Adjustment**\n",
      "   - Track client portfolios in real time, evaluating performance and detecting deviations from goals or risk thresholds.\n",
      "   - Automatically suggest optimal rebalancing actions or strategic shifts, validated and approved by human advisors.\n",
      "\n",
      "3. **Personalized Recommendation Engine**\n",
      "   - Incorporate client-specific goals, preferences, and risk tolerances to generate tailored investment strategies.\n",
      "   - Adapt recommendations dynamically as market conditions or client circumstances change.\n",
      "\n",
      "4. **Proactive Client Engagement & Natural Language Interaction**\n",
      "   - Provide clients with timely updates, alerts, and insights via conversational interfaces (chat or voice).\n",
      "   - Explain the rationale behind recommendations transparently, enhancing trust and understanding.\n",
      "\n",
      "5. **Compliance & Ethical Oversight**\n",
      "   - Embed compliance checks within the AI's reasoning process.\n",
      "   - Document decision-making pathways for auditability, ensuring advisory practices meet regulatory standards.\n",
      "\n",
      "6. **Collaborative Workflow with Human Advisors**\n",
      "   - Serve as an intelligent assistant that prepares analysis and preliminary recommendations.\n",
      "   - Allow advisors to review, fine-tune, and approve suggested actions, preserving human oversight.\n",
      "\n",
      "Implementation Highlights:\n",
      "\n",
      "- **Agentic Autonomy with Oversight:** The system actively manages routine analyses and adjustments while empowering human advisors to retain control over final decisions.\n",
      "- **Transparency and Explainability:** The AI articulates the reasoning behind each recommendation, including data sources and market rationale.\n",
      "- **Secure & Confidential:** Handles sensitive client data with top-tier security measures, respecting privacy regulations.\n",
      "- **Adaptive Learning:** Continuously refines its models based on outcomes, feedback, and evolving market dynamics.\n",
      "\n",
      "Expected Outcomes:\n",
      "- Significant reduction in time spent on manual data crunching and strategy adjustments.\n",
      "- Immediate, proactive insights that keep clients informed and engaged.\n",
      "- Enhanced accuracy and consistency in personalized financial plans.\n",
      "- Improved client satisfaction and trust owing to transparency and responsiveness.\n",
      "- Reduced operational overhead for advisory firms, allowing focus on higher-value client relationships.\n",
      "\n",
      "In summary, **FinSmart AI** positions itself as an intelligent partner—an agentic assistant—that enhances the capabilities of financial advisors by automating data analysis, enabling rapid adaptations, and fostering transparent, personalized client interactions, ultimately transforming the landscape of wealth management.\n"
     ]
    }
   ],
   "source": [
    "#First ask the LLM to pick a business area that might be worth exploring for an Agentic AI opportunity.<br/>\n",
    "#Then ask the LLM to present a pain-point in that industry - something challenging that might be ripe for an Agentic solution.<br/>\n",
    "#Finally have 3 third LLM call propose the Agentic AI solution.\n",
    "\n",
    "# Step 1: Pick business area\n",
    "messages = [\n",
    "    {\"role\": \"user\", \"content\": \"Pick a business area that might be worth exploring for an Agentic AI opportunity.\"}\n",
    "]\n",
    "response = openai.chat.completions.create(\n",
    "    model=\"gpt-4.1-nano\",\n",
    "    messages=messages\n",
    ")\n",
    "business_idea = response.choices[0].message.content\n",
    "print(f\"1st Response (Business Idea): {business_idea}\")\n",
    "\n",
    "# Step 2: Find pain-point\n",
    "messages = [\n",
    "    {\"role\": \"user\", \"content\": f\"In the above business area ({business_idea}), present a pain-point that might be ripe for an Agentic AI solution.\"}\n",
    "]\n",
    "response = openai.chat.completions.create(\n",
    "    model=\"gpt-4.1-nano\",\n",
    "    messages=messages\n",
    ")\n",
    "pain_point = response.choices[0].message.content\n",
    "print(f\"2nd Response (Pain Point): {pain_point}\")\n",
    "\n",
    "# Step 3: Propose solution\n",
    "messages = [\n",
    "    {\"role\": \"user\", \"content\": f\"Propose an Agentic AI solution to address the following pain-point: {pain_point}\"}\n",
    "]\n",
    "response = openai.chat.completions.create(\n",
    "    model=\"gpt-4.1-nano\",\n",
    "    messages=messages\n",
    ")\n",
    "solution = response.choices[0].message.content\n",
    "print(f\"3rd Response (Solution): {solution}\")\n",
    "\n"
   ]
  },
  {
   "cell_type": "markdown",
   "metadata": {},
   "source": []
  }
 ],
 "metadata": {
  "kernelspec": {
   "display_name": "agents",
   "language": "python",
   "name": "python3"
  },
  "language_info": {
   "codemirror_mode": {
    "name": "ipython",
    "version": 3
   },
   "file_extension": ".py",
   "mimetype": "text/x-python",
   "name": "python",
   "nbconvert_exporter": "python",
   "pygments_lexer": "ipython3",
   "version": "3.12.11"
  }
 },
 "nbformat": 4,
 "nbformat_minor": 2
}
