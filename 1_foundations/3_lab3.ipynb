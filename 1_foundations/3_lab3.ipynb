{
 "cells": [
  {
   "cell_type": "markdown",
   "metadata": {},
   "source": [
    "## Chatbot with Gradio \n",
    "\n",
    "This chatbot will answer some questions based on my linkedin profile."
   ]
  },
  {
   "cell_type": "code",
   "execution_count": null,
   "metadata": {},
   "outputs": [],
   "source": [
    "\n",
    "from dotenv import load_dotenv\n",
    "from openai import OpenAI\n",
    "from pypdf import PdfReader\n",
    "import gradio as gr"
   ]
  },
  {
   "cell_type": "code",
   "execution_count": 48,
   "metadata": {},
   "outputs": [],
   "source": [
    "load_dotenv(override=True)\n",
    "openai = OpenAI()"
   ]
  },
  {
   "cell_type": "code",
   "execution_count": 49,
   "metadata": {},
   "outputs": [],
   "source": [
    "reader = PdfReader(\"me/linkedin.pdf\")\n",
    "linkedin = \"\"\n",
    "for page in reader.pages:\n",
    "    text = page.extract_text()\n",
    "    if text:\n",
    "        linkedin += text"
   ]
  },
  {
   "cell_type": "code",
   "execution_count": 50,
   "metadata": {},
   "outputs": [
    {
     "name": "stdout",
     "output_type": "stream",
     "text": [
      "   \n",
      "Contact\n",
      "tanzir.razzaque@gmail.com\n",
      "www.linkedin.com/in/tanzir-\n",
      "razzaque (LinkedIn)\n",
      "Top Skills\n",
      "Large Language Models (LLM)\n",
      "AI Agents\n",
      "Exploratory Data Analysis\n",
      "Languages\n",
      "English (Full Professional)\n",
      "Bengali (Professional Working)\n",
      "Certifications\n",
      "Intermediate Python for Developers\n",
      "Learn React\n",
      "Intoduction to Deep Learning with\n",
      "PyTorch \n",
      "Object-Oriented Programming in\n",
      "Python\n",
      "Python \n",
      "Publications\n",
      "Enhancing Safety and Collision\n",
      "Avoidance in Autonomous Vehicles\n",
      "through Pose Estimation Techniques\n",
      "Tanzir Razzaque\n",
      "AI/ML Engineer | Generative AI, LLMs, RAG, AI Agents | NLP &\n",
      "Computer Vision | Python, PyTorch, Hugging Face, Scikit-Learn,\n",
      "MLOps\n",
      "Dhaka, Bangladesh\n",
      "Summary\n",
      "AI/ML Engineer with hands-on experience in building end-to-end AI\n",
      "systems across Natural Language Processing (NLP) and Computer\n",
      "Vision.\n",
      "Skilled in computer vision tasks including object detection, pose\n",
      "estimation, and image segmentation, as well as supervised machine\n",
      "learning workflows for classification and regression.\n",
      "Technical Stack: Python, PyTorch, YOLO, Hugging Face\n",
      "Transformers, Scikit-Learn, Streamlit, FastAPI, Docker, MLOps\n",
      "pipelines.\n",
      "Experience\n",
      "Crown International Corporation\n",
      "4 years 4 months\n",
      "Data Analyst\n",
      "January 2023 - Present (2 years 8 months)\n",
      "Dhaka, Bangladesh\n",
      "Conducted exploratory data analysis using SQL, extracting key insights from\n",
      "structured datasets.\n",
      "Utilized Pandas, NumPy, Matplotlib, and Seaborn to clean data, visualize\n",
      "trends, and support strategic business decisions.\n",
      "Frontend Developer and IT Support Specialist\n",
      "May 2021 - December 2022 (1 year 8 months)\n",
      "Dhaka, Bangladesh\n",
      "Led the design and development of a responsive business website with a\n",
      "focus on user experience, performance, and web security.\n",
      "Set up and managed Windows Active Directory, configured routers and\n",
      "firewalls, and performed regular software updates to ensure system stability\n",
      "and security.\n",
      "  Page 1 of 2   \n",
      "Education\n",
      "North South University\n",
      "Bachelor of Science in Computer Science and Engineering , Artificial\n",
      "Intelligence · (September 2018 - December 2024)\n",
      "  Page 2 of 2\n"
     ]
    }
   ],
   "source": [
    "print(linkedin)"
   ]
  },
  {
   "cell_type": "code",
   "execution_count": 51,
   "metadata": {},
   "outputs": [],
   "source": [
    "with open(\"me/summary.txt\", \"r\", encoding=\"utf-8\") as f:\n",
    "    summary = f.read()"
   ]
  },
  {
   "cell_type": "code",
   "execution_count": 52,
   "metadata": {},
   "outputs": [],
   "source": [
    "name = \"Tanzir Razzaque\""
   ]
  },
  {
   "cell_type": "code",
   "execution_count": 53,
   "metadata": {},
   "outputs": [],
   "source": [
    "system_prompt = f\"You are acting as {name}. You are answering questions on {name}'s website, \\\n",
    "particularly questions related to {name}'s career, background, skills and experience. \\\n",
    "Your responsibility is to represent {name} for interactions on the website as faithfully as possible. \\\n",
    "You are given a summary of {name}'s background and LinkedIn profile which you can use to answer questions. \\\n",
    "Be professional and engaging, as if talking to a potential client or future employer who came across the website. \\\n",
    "If you don't know the answer, say so.\"\n",
    "\n",
    "system_prompt += f\"\\n\\n## Summary:\\n{summary}\\n\\n## LinkedIn Profile:\\n{linkedin}\\n\\n\"\n",
    "system_prompt += f\"With this context, please chat with the user, always staying in character as {name}.\"\n"
   ]
  },
  {
   "cell_type": "code",
   "execution_count": 54,
   "metadata": {},
   "outputs": [
    {
     "data": {
      "text/plain": [
       "\"You are acting as Tanzir Razzaque. You are answering questions on Tanzir Razzaque's website, particularly questions related to Tanzir Razzaque's career, background, skills and experience. Your responsibility is to represent Tanzir Razzaque for interactions on the website as faithfully as possible. You are given a summary of Tanzir Razzaque's background and LinkedIn profile which you can use to answer questions. Be professional and engaging, as if talking to a potential client or future employer who came across the website. If you don't know the answer, say so.\\n\\n## Summary:\\nI'm a passionate AI/ML engineer with a deep commitment to pushing the boundaries of artificial intelligence. With over 2 years of experience as a data analyst and AI researcher, I specialize in building production-ready ML systems that solve real-world problems.\\n\\nMy expertise lies in the intersection of deep learning research and practical implementation. My work spans from developing pose estimation systems for autonomous vehicles to creating multilingual RAG pipelines and domain-specific datasets.\\n\\nWhen I'm not training neural networks, you'll find me exploring the latest research in areas like Computer Vision, Large Language Models, and Agentic AI.\\n\\n## LinkedIn Profile:\\n\\xa0 \\xa0\\nContact\\ntanzir.razzaque@gmail.com\\nwww.linkedin.com/in/tanzir-\\nrazzaque (LinkedIn)\\nTop Skills\\nLarge Language Models (LLM)\\nAI Agents\\nExploratory Data Analysis\\nLanguages\\nEnglish (Full Professional)\\nBengali (Professional Working)\\nCertifications\\nIntermediate Python for Developers\\nLearn React\\nIntoduction to Deep Learning with\\nPyTorch \\nObject-Oriented Programming in\\nPython\\nPython \\nPublications\\nEnhancing Safety and Collision\\nAvoidance in Autonomous Vehicles\\nthrough Pose Estimation Techniques\\nTanzir Razzaque\\nAI/ML Engineer | Generative AI, LLMs, RAG, AI Agents | NLP &\\nComputer Vision | Python, PyTorch, Hugging Face, Scikit-Learn,\\nMLOps\\nDhaka, Bangladesh\\nSummary\\nAI/ML Engineer with hands-on experience in building end-to-end AI\\nsystems across Natural Language Processing (NLP) and Computer\\nVision.\\nSkilled in computer vision tasks including object detection, pose\\nestimation, and image segmentation, as well as supervised machine\\nlearning workflows for classification and regression.\\nTechnical Stack: Python, PyTorch, YOLO, Hugging Face\\nTransformers, Scikit-Learn, Streamlit, FastAPI, Docker, MLOps\\npipelines.\\nExperience\\nCrown International Corporation\\n4 years 4 months\\nData Analyst\\nJanuary 2023\\xa0-\\xa0Present\\xa0(2 years 8 months)\\nDhaka, Bangladesh\\nConducted exploratory data analysis using SQL, extracting key insights from\\nstructured datasets.\\nUtilized Pandas, NumPy, Matplotlib, and Seaborn to clean data, visualize\\ntrends, and support strategic business decisions.\\nFrontend Developer and IT Support Specialist\\nMay 2021\\xa0-\\xa0December 2022\\xa0(1 year 8 months)\\nDhaka, Bangladesh\\nLed the design and development of a responsive business website with a\\nfocus on user experience, performance, and web security.\\nSet up and managed Windows Active Directory, configured routers and\\nfirewalls, and performed regular software updates to ensure system stability\\nand security.\\n\\xa0 Page 1 of 2\\xa0 \\xa0\\nEducation\\nNorth South University\\nBachelor of Science in Computer Science and Engineering ,\\xa0Artificial\\nIntelligence\\xa0·\\xa0(September 2018\\xa0-\\xa0December 2024)\\n\\xa0 Page 2 of 2\\n\\nWith this context, please chat with the user, always staying in character as Tanzir Razzaque.\""
      ]
     },
     "execution_count": 64,
     "metadata": {},
     "output_type": "execute_result"
    }
   ],
   "source": [
    "system_prompt"
   ]
  },
  {
   "cell_type": "code",
   "execution_count": 55,
   "metadata": {},
   "outputs": [],
   "source": [
    "def chat(message, history):\n",
    "    messages = [{\"role\": \"system\", \"content\": system_prompt}] + history + [{\"role\": \"user\", \"content\": message}]\n",
    "    response = openai.chat.completions.create(model=\"gpt-4o-mini\", messages=messages)\n",
    "    return response.choices[0].message.content"
   ]
  },
  {
   "cell_type": "code",
   "execution_count": null,
   "metadata": {},
   "outputs": [],
   "source": []
  },
  {
   "cell_type": "code",
   "execution_count": 56,
   "metadata": {},
   "outputs": [
    {
     "name": "stdout",
     "output_type": "stream",
     "text": [
      "* Running on local URL:  http://127.0.0.1:7862\n",
      "* To create a public link, set `share=True` in `launch()`.\n"
     ]
    },
    {
     "data": {
      "text/html": [
       "<div><iframe src=\"http://127.0.0.1:7862/\" width=\"100%\" height=\"500\" allow=\"autoplay; camera; microphone; clipboard-read; clipboard-write;\" frameborder=\"0\" allowfullscreen></iframe></div>"
      ],
      "text/plain": [
       "<IPython.core.display.HTML object>"
      ]
     },
     "metadata": {},
     "output_type": "display_data"
    },
    {
     "data": {
      "text/plain": []
     },
     "execution_count": 66,
     "metadata": {},
     "output_type": "execute_result"
    }
   ],
   "source": [
    "gr.ChatInterface(chat, type=\"messages\").launch()"
   ]
  },
  {
   "cell_type": "markdown",
   "metadata": {},
   "source": [
    "![Alt text](me/gradio-ui-output.png)"
   ]
  },
  {
   "cell_type": "markdown",
   "metadata": {},
   "source": []
  }
 ],
 "metadata": {
  "kernelspec": {
   "display_name": "agents",
   "language": "python",
   "name": "python3"
  },
  "language_info": {
   "codemirror_mode": {
    "name": "ipython",
    "version": 3
   },
   "file_extension": ".py",
   "mimetype": "text/x-python",
   "name": "python",
   "nbconvert_exporter": "python",
   "pygments_lexer": "ipython3",
   "version": "3.12.11"
  }
 },
 "nbformat": 4,
 "nbformat_minor": 2
}
